{
 "cells": [
  {
   "cell_type": "code",
   "execution_count": 2,
   "id": "e6ad10a5-97ed-4b6c-804a-723e9dcc05d3",
   "metadata": {
    "tags": []
   },
   "outputs": [
    {
     "name": "stdout",
     "output_type": "stream",
     "text": [
      "Files already downloaded and verified\n",
      "Files already downloaded and verified\n"
     ]
    }
   ],
   "source": [
    "import torch\n",
    "import torch.nn as nn\n",
    "import torch.optim as optim\n",
    "import torchvision\n",
    "from torchvision import transforms\n",
    "from torchvision import models\n",
    "from torchvision.models.resnet import resnet34\n",
    "from torchvision.transforms.transforms import Resize\n",
    "import torch.nn.functional as F\n",
    "import json\n",
    "import numpy as np\n",
    "from PIL import Image\n",
    "\n",
    "if torch.cuda.is_available():\n",
    "        device = torch.device('cuda:0')\n",
    "else:\n",
    "    device = torch.device('cpu')\n",
    "\n",
    "transform = transforms.Compose([\n",
    "transforms.Resize(224),\n",
    "transforms.ToTensor(),\n",
    "transforms.Normalize([0.485, 0.456, 0.406],[0.229, 0.224, 0.225])\n",
    "])\n",
    "#采用自带的Cifar100\n",
    "trainset = torchvision.datasets.CIFAR100(root='./data_CIFAR100', train=True, download=True, transform=transform)\n",
    "trainloader = torch.utils.data.DataLoader(trainset, batch_size=64, shuffle=True)\n",
    " \n",
    "testset = torchvision.datasets.CIFAR100(root='./data_CIFAR100', train=False, download=True, transform=transform)\n",
    "testloader = torch.utils.data.DataLoader(testset, batch_size=64, shuffle=True)\n"
   ]
  },
  {
   "cell_type": "markdown",
   "id": "55992080-b267-4604-a4ca-dca019f87c4b",
   "metadata": {},
   "source": [
    "### 在数据集中加入weight"
   ]
  },
  {
   "cell_type": "code",
   "execution_count": 3,
   "id": "334efbc1-5600-4327-9acf-b74b08a87b8c",
   "metadata": {
    "tags": []
   },
   "outputs": [],
   "source": [
    "from torchvision import datasets\n",
    "class CIFAR100(datasets.CIFAR100):\n",
    "    def __init__(self, root, indexs, influence_weight, train=True,\n",
    "                 transform=torchvision.transforms.Compose([\n",
    "    transforms.Resize((224, 224)),\n",
    "    transforms.RandomHorizontalFlip(p=0.5),\n",
    "    transforms.ToTensor(),\n",
    "    transforms.Normalize((0.485, 0.456, 0.406), (0.229, 0.224, 0.225))]),\n",
    "                 download=True):\n",
    "        super().__init__(root, train=train,\n",
    "                         transform=transform,\n",
    "                         download=download)\n",
    "        if indexs is not None:\n",
    "            self.data = self.data[indexs]\n",
    "            self.targets = np.array(self.targets)[indexs]\n",
    "            self.index = indexs\n",
    "            self.weight = influence_weight[indexs]\n",
    "\n",
    "\n",
    "    def __getitem__(self, index):\n",
    "        img, targets,indexs,weight = self.data[index], \\\n",
    "                                    self.targets[index], \\\n",
    "                                    self.index[index],\\\n",
    "                                    self.weight[index]\n",
    "        img = Image.fromarray(img)\n",
    "\n",
    "        if self.transform is not None:\n",
    "            img = self.transform(img)\n",
    "\n",
    "        return img, targets,indexs,weight"
   ]
  },
  {
   "cell_type": "code",
   "execution_count": 4,
   "id": "a4bd9222-9290-4037-b76c-52e0e393c816",
   "metadata": {
    "tags": []
   },
   "outputs": [],
   "source": [
    "import json\n",
    "import numpy as np\n",
    "def read_json(save_path, encoding='utf8'):\n",
    "    with open(save_path, 'r', encoding=encoding) as f:\n",
    "        content = f.read()\n",
    "        content = json.loads(content)\n",
    "        return content\n",
    "\n",
    "def normalize(x, newRange=(0, 1)): #x is an array. Default range is between zero and one\n",
    "    xmin, xmax = np.min(x), np.max(x) #get max and min from input array\n",
    "    norm = (x - xmin)/(xmax - xmin) # scale between zero and one\n",
    "\n",
    "    if newRange == (0, 1):\n",
    "        return(norm) # wanted range is the same as norm\n",
    "    elif newRange != (0, 1):\n",
    "        return norm * (newRange[1] - newRange[0]) + newRange[0] #scale to a different range."
   ]
  },
  {
   "cell_type": "code",
   "execution_count": 7,
   "id": "a9a217aa-0b2a-44ea-ae35-26b2cf72768c",
   "metadata": {
    "tags": []
   },
   "outputs": [],
   "source": [
    "\n",
    "influence_0 = read_json(\"./influence_results_tmp_0_index_9.json\")['0']['influence']\n",
    "# influence_1 = read_json(save_path)['1']['influence']\n",
    "# influence_2 = read_json(save_path)['2']['influence']\n",
    "# influence_3 = read_json(save_path)['3']['influence']\n",
    "# influence_4 = read_json(save_path)['4']['influence']\n",
    "\n",
    "# influence = [(x0+x1+x2+x3+x4)/5\n",
    "#              for x0,x1,x2,x3,x4\n",
    "#              in zip(influence_0,influence_1,influence_2,influence_3,influence_4)\n",
    "#             ]\n",
    "\n",
    "normalized_influence_score = normalize(influence_0, newRange=(-1, 1))\n",
    "\n",
    "influence_weight = np.exp(normalized_influence_score)\n"
   ]
  },
  {
   "cell_type": "code",
   "execution_count": null,
   "id": "9e3ce7c8-9f89-4d5e-a6da-a4ef18dab911",
   "metadata": {},
   "outputs": [],
   "source": []
  },
  {
   "cell_type": "code",
   "execution_count": 9,
   "id": "e4934b9e-e3e9-49d9-a8b1-b9d5279bc49c",
   "metadata": {
    "tags": []
   },
   "outputs": [
    {
     "name": "stdout",
     "output_type": "stream",
     "text": [
      "Files already downloaded and verified\n"
     ]
    }
   ],
   "source": [
    "all_idx = np.array(range(len(trainset.targets)))\n",
    "default_weight = np.ones(len(trainset.targets))\n",
    "\n",
    "train_dataset = CIFAR100(root='./data_CIFAR100',\n",
    "     indexs = all_idx,influence_weight=influence_weight, train=True\n",
    ")\n",
    "train_dataloader = torch.utils.data.DataLoader(train_dataset, batch_size=64, shuffle=False)\n"
   ]
  },
  {
   "cell_type": "code",
   "execution_count": null,
   "id": "4322332a-0836-4a57-8209-9a65553a2c8d",
   "metadata": {},
   "outputs": [],
   "source": []
  },
  {
   "cell_type": "code",
   "execution_count": null,
   "id": "917e7acd-efef-4bbe-aab8-a69ecc763eda",
   "metadata": {},
   "outputs": [],
   "source": [
    "## 训练过程与KD_with_IF中的一样"
   ]
  }
 ],
 "metadata": {
  "kernelspec": {
   "display_name": "Python 3 (ipykernel)",
   "language": "python",
   "name": "python3"
  },
  "language_info": {
   "codemirror_mode": {
    "name": "ipython",
    "version": 3
   },
   "file_extension": ".py",
   "mimetype": "text/x-python",
   "name": "python",
   "nbconvert_exporter": "python",
   "pygments_lexer": "ipython3",
   "version": "3.8.10"
  }
 },
 "nbformat": 4,
 "nbformat_minor": 5
}
