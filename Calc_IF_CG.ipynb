{
 "cells": [
  {
   "cell_type": "code",
   "execution_count": 1,
   "id": "b9671d3d-7e4b-466b-8d4a-e4d6440fe07c",
   "metadata": {
    "tags": []
   },
   "outputs": [
    {
     "name": "stdout",
     "output_type": "stream",
     "text": [
      "Files already downloaded and verified\n",
      "Files already downloaded and verified\n"
     ]
    }
   ],
   "source": [
    "import torch\n",
    "import torch.nn as nn\n",
    "import torch.optim as optim\n",
    "import torchvision\n",
    "from torchvision import transforms\n",
    "from torchvision import models\n",
    "from torchvision.models.resnet import resnet34\n",
    "from torchvision.transforms.transforms import Resize\n",
    "import torch.nn.functional as F\n",
    "from PIL import Image\n",
    "\n",
    "if torch.cuda.is_available():\n",
    "        device = torch.device('cuda:0')\n",
    "else:\n",
    "    device = torch.device('cpu')\n",
    "\n",
    "transform = transforms.Compose([\n",
    "transforms.Resize(224),\n",
    "transforms.ToTensor(),\n",
    "transforms.Normalize([0.485, 0.456, 0.406],[0.229, 0.224, 0.225])\n",
    "])\n",
    "#采用自带的Cifar100\n",
    "trainset = torchvision.datasets.CIFAR100(root='./data_CIFAR100', train=True, download=True, transform=transform)\n",
    "trainloader = torch.utils.data.DataLoader(trainset, batch_size=64, shuffle=True)\n",
    " \n",
    "testset = torchvision.datasets.CIFAR100(root='./data_CIFAR100', train=False, download=True, transform=transform)\n",
    "testloader = torch.utils.data.DataLoader(testset, batch_size=64, shuffle=True)\n",
    "\n"
   ]
  },
  {
   "cell_type": "code",
   "execution_count": 2,
   "id": "17e0c54d-51fb-4c6d-a8b1-686b4c05f926",
   "metadata": {
    "tags": []
   },
   "outputs": [
    {
     "name": "stderr",
     "output_type": "stream",
     "text": [
      "/root/miniconda3/lib/python3.8/site-packages/torchvision/models/_utils.py:208: UserWarning: The parameter 'pretrained' is deprecated since 0.13 and may be removed in the future, please use 'weights' instead.\n",
      "  warnings.warn(\n",
      "/root/miniconda3/lib/python3.8/site-packages/torchvision/models/_utils.py:223: UserWarning: Arguments other than a weight enum or `None` for 'weights' are deprecated since 0.13 and may be removed in the future. The current behavior is equivalent to passing `weights=None`.\n",
      "  warnings.warn(msg)\n"
     ]
    }
   ],
   "source": [
    "student_model=models.mobilenet_v2(pretrained=False)\n",
    "\n",
    "student_model.classifier = nn.Sequential( \n",
    "    #重新定义特征层，根据需要可以添加自己想要的Linear层\n",
    "    nn.Dropout(p=0.2, inplace=False),\n",
    "    nn.Linear(in_features=1280, out_features=100),  #多加几层都没关系\n",
    "    #nn.LogSoftmax(dim=1)\n",
    ")\n",
    " "
   ]
  },
  {
   "cell_type": "code",
   "execution_count": 3,
   "id": "7f6cf195-5d48-431f-98d1-ae66a21b3d77",
   "metadata": {
    "tags": []
   },
   "outputs": [],
   "source": [
    "import pytorch_influence_functions as ptif\n",
    "import numpy as np\n",
    "def get_default_config():\n",
    "    \"\"\"Returns a default config file\"\"\"\n",
    "    config = {\n",
    "        'outdir': './',\n",
    "        'seed': 42,\n",
    "        'gpu': -1,\n",
    "        'dataset': 'CIFAR100',\n",
    "        'num_classes': 5,\n",
    "        'test_sample_num': 1,\n",
    "        'test_start_index': 0, #change\n",
    "        'recursion_depth': 1,\n",
    "        'r_averaging': 1,\n",
    "        'scale': None,\n",
    "        'damp': None,\n",
    "        'calc_method': 'img_wise',\n",
    "        'log_filename': None,\n",
    "    }\n",
    "\n",
    "    return config"
   ]
  },
  {
   "cell_type": "code",
   "execution_count": null,
   "id": "d1f3d04e-3e7b-43f9-998a-defc67141dfa",
   "metadata": {
    "tags": []
   },
   "outputs": [
    {
     "name": "stdout",
     "output_type": "stream",
     "text": [
      "Calc. s_test recursions: [=================================================] 1 / 1\n",
      "Averaging r-times: [=======================================================] 1 / 1\n",
      "\u001b[KCalc. influence function: [========================================] 49762 / 50000\r"
     ]
    }
   ],
   "source": [
    "config = get_default_config()\n",
    "student_save_path='./Dis_resnet50(T)_mobilebetv2(S)_cifar100_epoch10_withif_1.pkl'\n",
    "student_model.load_state_dict(torch.load(student_save_path))\n",
    "#ptif.init_logging(config['outdir'])\n",
    "influences = ptif.calc_img_wise(config, student_model, trainloader, testloader)"
   ]
  },
  {
   "cell_type": "code",
   "execution_count": null,
   "id": "07f649c8-c46c-4f68-bf47-21bae55f7747",
   "metadata": {},
   "outputs": [],
   "source": []
  }
 ],
 "metadata": {
  "kernelspec": {
   "display_name": "Python 3 (ipykernel)",
   "language": "python",
   "name": "python3"
  },
  "language_info": {
   "codemirror_mode": {
    "name": "ipython",
    "version": 3
   },
   "file_extension": ".py",
   "mimetype": "text/x-python",
   "name": "python",
   "nbconvert_exporter": "python",
   "pygments_lexer": "ipython3",
   "version": "3.8.10"
  }
 },
 "nbformat": 4,
 "nbformat_minor": 5
}
